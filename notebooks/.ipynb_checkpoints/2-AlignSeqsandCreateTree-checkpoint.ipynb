{
 "cells": [
  {
   "cell_type": "markdown",
   "id": "57dd192d",
   "metadata": {},
   "source": [
    "# Alignment and Phylogenetic Tree"
   ]
  },
  {
   "cell_type": "markdown",
   "id": "900afcaa",
   "metadata": {},
   "source": [
    "* Tree building from alignment using DADA2 sequences from three hyphosphere experiments.\n",
    "* Fasta has already been thresholded to reduce computational demand"
   ]
  },
  {
   "cell_type": "code",
   "execution_count": 1,
   "id": "46b2a81a",
   "metadata": {},
   "outputs": [],
   "source": [
    "workDir = '/project/mmicrobe/Boyd/Fasttree/'\n",
    "OTUFileDir = '/project/mmicrobe/Boyd/16S/DADA2files/'\n",
    "OTUFile = '/project/mmicrobe/Boyd/16S/DADA2files/seqs_thresh.fasta'\n",
    "\n",
    "\n",
    "nprocs = 16"
   ]
  },
  {
   "cell_type": "code",
   "execution_count": 30,
   "id": "0923ff25",
   "metadata": {},
   "outputs": [],
   "source": [
    "import os\n",
    "import numpy as np\n",
    "#import entrez.direct\n",
    "#from cogent3.app.fasttree import build_tree_from_alignment\n",
    "from cogent3 import DNA, load_aligned_seqs\n",
    "from Bio import Entrez, Phylo\n",
    "Entrez.email = \"be68@cornell.edu\"\n",
    "#from IPython.display import display, Image, SVG\n",
    "#from cogent3 import LoadSeqs, FastTree"
   ]
  },
  {
   "cell_type": "code",
   "execution_count": 8,
   "id": "c330be0d",
   "metadata": {},
   "outputs": [],
   "source": [
    "if not os.path.isdir(workDir):\n",
    "    os.mkdir(workDir)"
   ]
  },
  {
   "cell_type": "code",
   "execution_count": 11,
   "id": "ce0bbdfa",
   "metadata": {},
   "outputs": [
    {
     "name": "stdout",
     "output_type": "stream",
     "text": [
      "/project/mmicrobe/Boyd/Fasttree\r\n"
     ]
    }
   ],
   "source": [
    "!cd $workDir; pwd"
   ]
  },
  {
   "cell_type": "code",
   "execution_count": 12,
   "id": "f44114de",
   "metadata": {},
   "outputs": [],
   "source": [
    "!cd $workDir; ln -f -s $OTUFile"
   ]
  },
  {
   "cell_type": "code",
   "execution_count": 13,
   "id": "3e1c6c75",
   "metadata": {},
   "outputs": [
    {
     "name": "stdout",
     "output_type": "stream",
     "text": [
      ">ASV1\r\n",
      "TACGGAGGGTGCAAGCGTTAATCGGAATTACTGGGCGTAAAGCGCACGCAGGCGGTTCATCGCGAGGCTTTATACGAGGCACCAAATAAGCACCGTAATAAGTGAGTCCCGCGGGCTTATTGTGCTGCAGTATAGCTACTATAGCGTAGGGATCGATATCAGCTATACCTAGATGAGAGCCCATTTCCGCTCGATATACCTAGGGACACGTAGATGTACTATTTCGGCGACTTGGATGTGGGGAGCAAACAGG\r\n",
      ">ASV2\r\n",
      "TACCAGCACCCCGAGTGGTCGGGACGTTTATTGGGCCTAAAGCATCCGTAGCCGGTTCTACAAGTCTTCCGTTAAATCCACCTGCTTAACAGATGGGCTGCGGAAGATACTATAGAGCTAGGAGGCGGGAGAGGCAAGCGGTACTCGATGGGTAGGGGTAAAATCCGTTGATCCATTGAAGACCACCAGTGGCGAAGGCGGCTTGCCAGAACGCGCTCGACGGTGAGGGATGAAAGCTGGGGGAGCAAACCGG\r\n",
      ">ASV3\r\n",
      "TACAGAGGTCTCAAGCGTTGTTCGGATTCATTGGGCGTAAAGGGTGCGTAGGCGGCGCGGTAAGTCGGGTGTGAAATCTCGGAGCTTAACTCCGAAACTGCATTCGATACTGCCGTGCTTGAGGACTGGAGAGGAGACTGGAATTTACGGTGTAGCGGTGAAATGCGTAGATATCGTAAGGAAGACCAGTGGCGAAGGCGGGTCTCTGGACAGTTCCTGACGCTGAGGCACGAAGGCCAGGGGAGCAAACGGG\r\n",
      ">ASV4\r\n",
      "TACGTAGGGCGCAAGCGTTATCCGGAATTATTGGGCGTAAAGAGCTCGTAGGCGGTTTGTCGCGTCTGCCGTGAAAGTCCGGGGCTCAACTCCGGATCTGCGGTGGGTACGGGCAGACTAGAGTGATGTAGGGGAGACTGGAATTCCTGGTGTAGCGGTGAAATGCGCAGATATCAGGAGGAACACCGATGGCGAAGGCAGGTCTCTGGGCATTAACTGACGCTGAGGAGCGAAAGCATGGGGAGCGAACAGG\r\n",
      ">ASV5\r\n",
      "TACGGAGGGTGCAAGCGTTATCCGGATTCACTGGGTTTAAAGGGTGCGTAGGTGGGCAAGTAAGTCAGTGGTGAAATCTCCGGGCTTAACCCGGAAACTGCCATTGATACTATTTGTCTTGAATACTGTGGAGGTCAGCGGAATATGTCATGTAGCGGTGAAATGCTTAGATATGACATAGAACACCAATTGCGAAGGCAGCTGGCTACACAAATATTGACACTGAGGCACGAAAGCGTGGGGATCAAACAGG\r\n"
     ]
    }
   ],
   "source": [
    "!cd $workDir; head $OTUFile"
   ]
  },
  {
   "cell_type": "code",
   "execution_count": 14,
   "id": "a6e79f85",
   "metadata": {},
   "outputs": [
    {
     "name": "stdout",
     "output_type": "stream",
     "text": [
      "Number of OTUs in fasta: 7528\n"
     ]
    }
   ],
   "source": [
    "!printf \"Number of OTUs in fasta: \"\n",
    "!cd $workDir; grep -c \">\" $OTUFile"
   ]
  },
  {
   "cell_type": "markdown",
   "id": "1667ca20",
   "metadata": {},
   "source": [
    "# Using SSU-Align to align seqs and masking based on alignment posterior probabilities"
   ]
  },
  {
   "cell_type": "code",
   "execution_count": 16,
   "id": "158cdecb",
   "metadata": {},
   "outputs": [
    {
     "name": "stdout",
     "output_type": "stream",
     "text": [
      "# _ssu-prep :: prepare SSU rRNA sequences for parallel ssu-align jobs\n",
      "# SSU-ALIGN 0.1.1 (Feb 2016)\n",
      "# Copyright (C) 2016 Howard Hughes Medical Institute\n",
      "# Freely distributed under the BSD open source license.\n",
      "# - - - - - - - - - - - - - - - - - - - - - - - - - - - - - - - - - - - -\n",
      "# command: _ssu-prep -x -f -b 50 --dna --rfonly /project/mmicrobe/Boyd/16S/DADA2files/seqs_thresh.fasta ssu_aln 16\n",
      "# date:    Thu Jan 20 10:30:24 2022\n",
      "#\n",
      "# Validating input sequence file ... done.\n",
      "#\n",
      "# Preparing 16 ssu-align jobs ...\n",
      "# Partitioning seqs with goal of equalizing total number of nucleotides per job ...\n",
      "#\n",
      "# output file name      description                                           \n",
      "# --------------------  ------------------------------------------------------\n",
      "  ssu_aln/seqs_thresh.fasta.1  partition  1 FASTA sequence file (471 seqs; 119192 nt)\n",
      "  ssu_aln/seqs_thresh.fasta.2  partition  2 FASTA sequence file (471 seqs; 119186 nt)\n",
      "  ssu_aln/seqs_thresh.fasta.3  partition  3 FASTA sequence file (471 seqs; 119191 nt)\n",
      "  ssu_aln/seqs_thresh.fasta.4  partition  4 FASTA sequence file (471 seqs; 119181 nt)\n",
      "  ssu_aln/seqs_thresh.fasta.5  partition  5 FASTA sequence file (471 seqs; 119189 nt)\n",
      "  ssu_aln/seqs_thresh.fasta.6  partition  6 FASTA sequence file (471 seqs; 119190 nt)\n",
      "  ssu_aln/seqs_thresh.fasta.7  partition  7 FASTA sequence file (471 seqs; 119182 nt)\n",
      "  ssu_aln/seqs_thresh.fasta.8  partition  8 FASTA sequence file (471 seqs; 119190 nt)\n",
      "  ssu_aln/seqs_thresh.fasta.9  partition  9 FASTA sequence file (471 seqs; 119188 nt)\n",
      "  ssu_aln/seqs_thresh.fasta.10  partition 10 FASTA sequence file (470 seqs; 118932 nt)\n",
      "  ssu_aln/seqs_thresh.fasta.11  partition 11 FASTA sequence file (470 seqs; 118936 nt)\n",
      "  ssu_aln/seqs_thresh.fasta.12  partition 12 FASTA sequence file (470 seqs; 118928 nt)\n",
      "  ssu_aln/seqs_thresh.fasta.13  partition 13 FASTA sequence file (470 seqs; 118942 nt)\n",
      "  ssu_aln/seqs_thresh.fasta.14  partition 14 FASTA sequence file (470 seqs; 118951 nt)\n",
      "  ssu_aln/seqs_thresh.fasta.15  partition 15 FASTA sequence file (470 seqs; 118939 nt)\n",
      "  ssu_aln/seqs_thresh.fasta.16  partition 16 FASTA sequence file (469 seqs; 118687 nt)\n",
      "  ssu_aln.ssu-align.sh  shell script that will execute 16 ssu-align jobs\n",
      "#\n",
      "################################################################################\n",
      "# To execute all 16 ssu-align jobs, run the shell script with the command:\n",
      "#\t\"ssu_aln.ssu-align.sh\"\n",
      "# (it is an executable file)\n",
      "################################################################################\n",
      "#\n",
      "# The final job will merge the output from all jobs once they are all finished.\n",
      "#\n",
      "# If one or more jobs fail: rerun the failed jobs, wait for them to finish,\n",
      "# and then perform manual merge from this directory by executing:\n",
      "#\tssu-merge ssu_aln\n",
      "#\n",
      "# List of executed commands saved in:     ssu_aln/ssu_aln.ssu-prep.log.\n",
      "# Output printed to the screen saved in:  ssu_aln/ssu_aln.ssu-prep.sum.\n",
      "#\n",
      "# CPU time:  00:00:00.31  (hh:mm:ss)\n",
      "# \n"
     ]
    }
   ],
   "source": [
    "!cd $workDir; ssu-prep -f -x -b 50 --rfonly --dna $OTUFile ssu_aln 16"
   ]
  },
  {
   "cell_type": "code",
   "execution_count": 17,
   "id": "e8ce0565",
   "metadata": {
    "scrolled": false
   },
   "outputs": [
    {
     "name": "stdout",
     "output_type": "stream",
     "text": [
      "# Executing: ssu-align -b 50 --dna --rfonly ssu_aln/seqs_thresh.fasta.1 ssu_aln/ssu_aln.1 > /dev/null &\n",
      "# Executing: ssu-align -b 50 --dna --rfonly ssu_aln/seqs_thresh.fasta.2 ssu_aln/ssu_aln.2 > /dev/null &\n",
      "# Executing: ssu-align -b 50 --dna --rfonly ssu_aln/seqs_thresh.fasta.3 ssu_aln/ssu_aln.3 > /dev/null &\n",
      "# Executing: ssu-align -b 50 --dna --rfonly ssu_aln/seqs_thresh.fasta.4 ssu_aln/ssu_aln.4 > /dev/null &\n",
      "# Executing: ssu-align -b 50 --dna --rfonly ssu_aln/seqs_thresh.fasta.5 ssu_aln/ssu_aln.5 > /dev/null &\n",
      "# Executing: ssu-align -b 50 --dna --rfonly ssu_aln/seqs_thresh.fasta.6 ssu_aln/ssu_aln.6 > /dev/null &\n",
      "# Executing: ssu-align -b 50 --dna --rfonly ssu_aln/seqs_thresh.fasta.7 ssu_aln/ssu_aln.7 > /dev/null &\n",
      "# Executing: ssu-align -b 50 --dna --rfonly ssu_aln/seqs_thresh.fasta.8 ssu_aln/ssu_aln.8 > /dev/null &\n",
      "# Executing: ssu-align -b 50 --dna --rfonly ssu_aln/seqs_thresh.fasta.9 ssu_aln/ssu_aln.9 > /dev/null &\n",
      "# Executing: ssu-align -b 50 --dna --rfonly ssu_aln/seqs_thresh.fasta.10 ssu_aln/ssu_aln.10 > /dev/null &\n",
      "# Executing: ssu-align -b 50 --dna --rfonly ssu_aln/seqs_thresh.fasta.11 ssu_aln/ssu_aln.11 > /dev/null &\n",
      "# Executing: ssu-align -b 50 --dna --rfonly ssu_aln/seqs_thresh.fasta.12 ssu_aln/ssu_aln.12 > /dev/null &\n",
      "# Executing: ssu-align -b 50 --dna --rfonly ssu_aln/seqs_thresh.fasta.13 ssu_aln/ssu_aln.13 > /dev/null &\n",
      "# Executing: ssu-align -b 50 --dna --rfonly ssu_aln/seqs_thresh.fasta.14 ssu_aln/ssu_aln.14 > /dev/null &\n",
      "# Executing: ssu-align -b 50 --dna --rfonly ssu_aln/seqs_thresh.fasta.15 ssu_aln/ssu_aln.15 > /dev/null &\n",
      "# Executing: ssu-align --merge 16 -b 50 --dna --rfonly ssu_aln/seqs_thresh.fasta.16 ssu_aln/ssu_aln.16\n",
      "# _ssu-align :: align SSU rRNA sequences\n",
      "# SSU-ALIGN 0.1.1 (Feb 2016)\n",
      "# Copyright (C) 2016 Howard Hughes Medical Institute\n",
      "# Freely distributed under the BSD open source license.\n",
      "# - - - - - - - - - - - - - - - - - - - - - - - - - - - - - - - - - - - -\n",
      "# command: _ssu-align --merge 16 -b 50 --dna --rfonly ssu_aln/seqs_thresh.fasta.16 ssu_aln/ssu_aln.16\n",
      "# date:    Thu Jan 20 10:30:47 2022\n",
      "#\n",
      "# Validating input sequence file ... done.\n",
      "#\n",
      "# Stage 1: Determining SSU start/end positions and best-matching models...\n",
      "#\n",
      "# output file name             description                                \n",
      "# ---------------------------  -------------------------------------------\n",
      "  ssu_aln.16.tab               locations/scores of hits defined by HMM(s)\n",
      "  ssu_aln.16.archaea.hitlist   list of sequences to align with archaea CM\n",
      "  ssu_aln.16.archaea.fa              3 sequences to align with archaea CM\n",
      "  ssu_aln.16.bacteria.hitlist  list of sequences to align with bacteria CM\n",
      "  ssu_aln.16.bacteria.fa           466 sequences to align with bacteria CM\n",
      "#\n",
      "# Stage 2: Aligning each sequence to its best-matching model...\n",
      "#\n",
      "# output file name             description\n",
      "# ---------------------------  ---------------------------------------\n",
      "  ssu_aln.16.archaea.stk       archaea alignment\n",
      "  ssu_aln.16.archaea.cmalign   archaea cmalign output\n",
      "  ssu_aln.16.archaea.ifile     archaea insert info\n",
      "  ssu_aln.16.bacteria.stk      bacteria alignment\n",
      "  ssu_aln.16.bacteria.cmalign  bacteria cmalign output\n",
      "  ssu_aln.16.bacteria.ifile    bacteria insert info\n",
      "  ssu_aln.16.scores            list of CM/HMM scores for each sequence\n",
      "#\n",
      "# Summary statistics:\n",
      "#\n",
      "# model or       number  fraction        average   average               \n",
      "# category      of seqs  of total         length  coverage    nucleotides\n",
      "# ------------  -------  --------  -------------  --------  -------------\n",
      "  *input*           469    1.0000         253.06    1.0000         118687\n",
      "#\n",
      "  archaea             3    0.0064         253.00    0.9987            759\n",
      "  bacteria          466    0.9936         251.33    0.9932         117122\n",
      "  eukarya             0    0.0000              -         -              0\n",
      "#\n",
      "  *all-models*      469    1.0000         251.35    0.9932         117881\n",
      "  *no-models*         0    0.0000              -         -              0\n",
      "#\n",
      "# Speed statistics:\n",
      "#\n",
      "# stage      num seqs  seq/sec  seq/sec/model    nucleotides    nt/sec\n",
      "# ---------  --------  -------  -------------  -------------  --------\n",
      "  search          469   17.392          5.797         118687    4401.3\n",
      "  alignment       469   18.213         18.213         117881    4577.7\n",
      "#\n",
      "#\n",
      "# List of executed commands saved in:     ssu_aln.16.ssu-align.log.\n",
      "# Output printed to the screen saved in:  ssu_aln.16.ssu-align.sum.\n",
      "#\n",
      "# All output files created in directory ./ssu_aln/ssu_aln.16/\n",
      "#\n",
      "# CPU time (search):     00:00:26.97  (hh:mm:ss)\n",
      "# CPU time (alignment):  00:00:25.75  (hh:mm:ss)\n",
      "# CPU time (total):      00:00:53.11  (hh:mm:ss)\n",
      "#\n",
      "################################################################################\n",
      "#\n",
      "# Alignments successfully created.\n",
      "#\n",
      "# Checking/waiting for other jobs to finish before merging...\n",
      "#\n",
      "# Job  1 (dir: ssu_aln/ssu_aln.1 ) completed successfully! 15/16 still incomplete.\n",
      "# Job  2 (dir: ssu_aln/ssu_aln.2 ) completed successfully! 14/16 still incomplete.\n",
      "# Job  5 (dir: ssu_aln/ssu_aln.5 ) completed successfully! 13/16 still incomplete.\n",
      "# Job  6 (dir: ssu_aln/ssu_aln.6 ) completed successfully! 12/16 still incomplete.\n",
      "# Job 10 (dir: ssu_aln/ssu_aln.10) completed successfully! 11/16 still incomplete.\n",
      "# Job 14 (dir: ssu_aln/ssu_aln.14) completed successfully! 10/16 still incomplete.\n",
      "# Job 15 (dir: ssu_aln/ssu_aln.15) completed successfully!  9/16 still incomplete.\n",
      "# Job 16 (dir: ssu_aln/ssu_aln.16) completed successfully!  8/16 still incomplete.\n",
      "# Job  4 (dir: ssu_aln/ssu_aln.4 ) completed successfully!  7/16 still incomplete.\n",
      "# Job  7 (dir: ssu_aln/ssu_aln.7 ) completed successfully!  6/16 still incomplete.\n",
      "# Job  8 (dir: ssu_aln/ssu_aln.8 ) completed successfully!  5/16 still incomplete.\n",
      "# Job  9 (dir: ssu_aln/ssu_aln.9 ) completed successfully!  4/16 still incomplete.\n",
      "# Job 11 (dir: ssu_aln/ssu_aln.11) completed successfully!  3/16 still incomplete.\n",
      "# Job 12 (dir: ssu_aln/ssu_aln.12) completed successfully!  2/16 still incomplete.\n",
      "# Job  3 (dir: ssu_aln/ssu_aln.3 ) completed successfully!  1/16 still incomplete.\n",
      "# Job 13 (dir: ssu_aln/ssu_aln.13) completed successfully!  0/16 still incomplete.\n",
      "#\n",
      "# All 16 jobs successfully completed.\n",
      "# About to merge their output:\n",
      "#\n",
      "# Executing:  ssu-merge ssu_aln\n",
      "#\n",
      "################################################################################\n",
      "#\n",
      "# _ssu-merge :: merge SSU rRNA alignments\n",
      "# SSU-ALIGN 0.1.1 (Feb 2016)\n",
      "# Copyright (C) 2016 Howard Hughes Medical Institute\n",
      "# Freely distributed under the BSD open source license.\n",
      "# - - - - - - - - - - - - - - - - - - - - - - - - - - - - - - - - - - - -\n",
      "# command: _ssu-merge ssu_aln\n",
      "# date:    Thu Jan 20 10:31:46 2022\n",
      "#\n",
      "# Merging files from 16 ssu-align runs...\n",
      "#\n",
      "#                                     # files     # seqs\n",
      "# merged file name          CM name    merged     merged\n",
      "# ------------------------  --------  -------  ---------\n",
      "  ssu_aln.tab               -              16          -\n",
      "  ssu_aln.scores            -              16          -\n",
      "  ssu_aln.nomatch           -              16          -\n",
      "  ssu_aln.ssu-align.sum     -              16          -\n",
      "  ssu_aln.ssu-align.log     -              16          -\n",
      "#\n",
      "  ssu_aln.archaea.fa        archaea        13         63\n",
      "  ssu_aln.archaea.hitlist   archaea        13         63\n",
      "  ssu_aln.archaea.cmalign   archaea        13         63\n",
      "  ssu_aln.archaea.ifile     archaea        13         63\n",
      "  ssu_aln.archaea.stk       archaea        13         63\n",
      "#\n",
      "  ssu_aln.bacteria.fa       bacteria       16       7464\n",
      "  ssu_aln.bacteria.hitlist  bacteria       16       7464\n",
      "  ssu_aln.bacteria.cmalign  bacteria       16       7464\n",
      "  ssu_aln.bacteria.ifile    bacteria       16       7464\n",
      "  ssu_aln.bacteria.stk      bacteria       16       7464\n",
      "#\n",
      "#\n",
      "# Summary statistics:\n",
      "#\n",
      "# model or       number  fraction        average   average               \n",
      "# category      of seqs  of total         length  coverage    nucleotides\n",
      "# ------------  -------  --------  -------------  --------  -------------\n",
      "  *input*          7528    1.0000         253.06    1.0000        1905004\n",
      "#\n",
      "  archaea            63    0.0084         252.84    0.9989          15929\n",
      "  bacteria         7464    0.9915         251.91    0.9955        1880258\n",
      "  eukarya             0    0.0000              -         -              0\n",
      "#\n",
      "  *all-models*     7527    0.9999         251.92    0.9955        1896187\n",
      "  *no-models*         1    0.0001         243.74    0.0000            243\n",
      "#\n",
      "# Speed statistics:\n",
      "#\n",
      "# stage      num seqs  seq/sec  seq/sec/model    nucleotides    nt/sec\n",
      "# ---------  --------  -------  -------------  -------------  --------\n",
      "  search         7528  7528.000       2509.333        1905004  1905004.0\n",
      "  alignment      7527  7527.000       7527.000        1896187  1896187.0\n",
      "#\n",
      "# Summed ssu-align CPU time (search):     00:00:00.00  (hh:mm:ss)\n",
      "# Summed ssu-align CPU time (alignment):  00:00:00.00  (hh:mm:ss)\n",
      "# Summed ssu-align CPU time (total):      00:00:00.00  (hh:mm:ss)\n",
      "#\n"
     ]
    },
    {
     "name": "stdout",
     "output_type": "stream",
     "text": [
      "# Cleaning up by removing original files that were just merged ... done.\r\n",
      "#\r\n",
      "# List of executed commands saved in:     ssu_aln.ssu-merge.log.\r\n",
      "# Output printed to the screen saved in:  ssu_aln.ssu-merge.sum.\r\n",
      "#\r\n",
      "# All output files created in directory ./ssu_aln/\r\n",
      "#\r\n",
      "# CPU time:  00:00:00.73  (hh:mm:ss)\r\n",
      "# \r\n"
     ]
    }
   ],
   "source": [
    "!cd $workDir; ./ssu_aln.ssu-align.sh"
   ]
  },
  {
   "cell_type": "code",
   "execution_count": 18,
   "id": "e02dccb4",
   "metadata": {},
   "outputs": [
    {
     "name": "stdout",
     "output_type": "stream",
     "text": [
      "# _ssu-mask :: mask SSU rRNA alignments\n",
      "# SSU-ALIGN 0.1.1 (Feb 2016)\n",
      "# Copyright (C) 2016 Howard Hughes Medical Institute\n",
      "# Freely distributed under the BSD open source license.\n",
      "# - - - - - - - - - - - - - - - - - - - - - - - - - - - - - - - - - - - -\n",
      "# command: _ssu-mask --afa --dna ssu_aln\n",
      "# date:    Thu Jan 20 10:32:13 2022\n",
      "#\n",
      "# Masking alignments based on posterior probabilities...\n",
      "#\n",
      "#                                                     mask    \n",
      "#                                                 ------------\n",
      "# file name                  in/out  type  #cols  incl.  excl.\n",
      "# -------------------------  ------  ----  -----  -----  -----\n",
      "  ssu_aln.archaea.stk         input   aln   1508      -      -\n",
      "  ssu_aln.archaea.mask       output  mask   1508    250   1258\n",
      "  ssu_aln.archaea.mask.pdf   output   pdf   1508    250   1258\n",
      "  ssu_aln.archaea.mask.afa   output   aln    250      -      -\n",
      "#\n",
      "  ssu_aln.bacteria.stk        input   aln   1582      -      -\n",
      "  ssu_aln.bacteria.mask      output  mask   1582    249   1333\n",
      "  ssu_aln.bacteria.mask.pdf  output   pdf   1582    249   1333\n",
      "  ssu_aln.bacteria.mask.afa  output   aln    249      -      -\n",
      "#\n",
      "# All attempts to draw structure diagrams of masks were successful.\n",
      "#\n",
      "# List of executed commands saved in:     ssu_aln.ssu-mask.log.\n",
      "# Output printed to the screen saved in:  ssu_aln.ssu-mask.sum.\n",
      "#\n",
      "# All output files created in directory ./ssu_aln/\n",
      "#\n",
      "# CPU time:  00:00:00.96  (hh:mm:ss)\n",
      "# \n"
     ]
    }
   ],
   "source": [
    "!cd $workDir; ssu-mask --dna --afa ssu_aln"
   ]
  },
  {
   "cell_type": "markdown",
   "id": "a2a6e108",
   "metadata": {},
   "source": [
    "## Root tree to sulfolobus (acc. X90478)"
   ]
  },
  {
   "cell_type": "code",
   "execution_count": 22,
   "id": "29476c6f",
   "metadata": {},
   "outputs": [],
   "source": [
    "sso_acc = \"X90478\"\n",
    "sso_fa = Entrez.efetch(db=\"nucleotide\", id=sso_acc, rettype=\"fasta\", retmode=\"text\").readlines()"
   ]
  },
  {
   "cell_type": "code",
   "execution_count": 23,
   "id": "def9eede",
   "metadata": {},
   "outputs": [],
   "source": [
    "out = open(os.path.join(workDir, 'X90478.fasta'), 'w')\n",
    "sso_fa_namestrip = sso_fa[1:]\n",
    "sso_fa_namestrip.insert(0,\">%s\\n\"%sso_acc)\n",
    "out.writelines(sso_fa_namestrip)\n",
    "out.close()"
   ]
  },
  {
   "cell_type": "code",
   "execution_count": 24,
   "id": "2c7e8570",
   "metadata": {},
   "outputs": [
    {
     "name": "stdout",
     "output_type": "stream",
     "text": [
      ">X90478\r\n",
      "TCCTGCCGGTCCCGACCGCTATCGGGGTGGGGCTAAGCCATGGGAGTCGTACGCTCCCGGGCAAGGGAGC\r\n",
      "GTGGCGGACGGCTGAGTAACACGTGGCTAACCTACCCTGAGGAGGGAGATAACCCCGGGAAACTGGGGAT\r\n",
      "AATCTCCCATAGGCGAGGAGTCCTGGAACGGTTCCTCGCTGAAAGGCTCATGGGCTATTCCCCGCTCATG\r\n"
     ]
    }
   ],
   "source": [
    " !cd $workDir; head -n 4 X90478.fasta"
   ]
  },
  {
   "cell_type": "markdown",
   "id": "a4d16284",
   "metadata": {},
   "source": [
    "### Align the outgroup to the same cm (use the same mask that was established earlier)."
   ]
  },
  {
   "cell_type": "code",
   "execution_count": 26,
   "id": "f931cf1b",
   "metadata": {},
   "outputs": [
    {
     "name": "stdout",
     "output_type": "stream",
     "text": [
      "# _ssu-align :: align SSU rRNA sequences\n",
      "# SSU-ALIGN 0.1.1 (Feb 2016)\n",
      "# Copyright (C) 2016 Howard Hughes Medical Institute\n",
      "# Freely distributed under the BSD open source license.\n",
      "# - - - - - - - - - - - - - - - - - - - - - - - - - - - - - - - - - - - -\n",
      "# command: _ssu-align -f -n bacteria --dna --rfonly X90478.fasta sso_aln\n",
      "# date:    Thu Jan 20 10:49:58 2022\n",
      "#\n",
      "# Validating input sequence file ... done.\n",
      "#\n",
      "# Stage 1: Determining SSU start/end positions and best-matching models...\n",
      "#\n",
      "# output file name          description                                \n",
      "# ------------------------  -------------------------------------------\n",
      "  sso_aln.tab               locations/scores of hits defined by HMM(s)\n",
      "  sso_aln.bacteria.hitlist  list of sequences to align with bacteria CM\n",
      "  sso_aln.bacteria.fa             1 sequence  to align with bacteria CM\n",
      "#\n",
      "# Stage 2: Aligning each sequence to its best-matching model...\n",
      "#\n",
      "# output file name          description\n",
      "# ------------------------  ---------------------------------------\n",
      "  sso_aln.bacteria.stk      bacteria alignment\n",
      "  sso_aln.bacteria.cmalign  bacteria cmalign output\n",
      "  sso_aln.bacteria.ifile    bacteria insert info\n",
      "  sso_aln.scores            list of CM/HMM scores for each sequence\n",
      "#\n",
      "# Summary statistics:\n",
      "#\n",
      "# model or       number  fraction        average   average               \n",
      "# category      of seqs  of total         length  coverage    nucleotides\n",
      "# ------------  -------  --------  -------------  --------  -------------\n",
      "  *input*             1    1.0000        1436.00    1.0000           1436\n",
      "#\n",
      "  bacteria            1    1.0000        1305.00    0.9088           1305\n",
      "#\n",
      "  *all-models*        1    1.0000        1305.00    0.9088           1305\n",
      "  *no-models*         0    0.0000              -         -              0\n",
      "#\n",
      "# Speed statistics:\n",
      "#\n",
      "# stage      num seqs  seq/sec  seq/sec/model    nucleotides    nt/sec\n",
      "# ---------  --------  -------  -------------  -------------  --------\n",
      "  search            1    6.345          6.345           1436    9111.3\n",
      "  alignment         1    2.425          2.425           1305    3165.3\n",
      "#\n",
      "#\n",
      "# List of executed commands saved in:     sso_aln.ssu-align.log.\n",
      "# Output printed to the screen saved in:  sso_aln.ssu-align.sum.\n",
      "#\n",
      "# All output files created in directory ./sso_aln/\n",
      "#\n",
      "# CPU time (search):     00:00:00.16  (hh:mm:ss)\n",
      "# CPU time (alignment):  00:00:00.41  (hh:mm:ss)\n",
      "# CPU time (total):      00:00:00.77  (hh:mm:ss)\n",
      "#\n"
     ]
    }
   ],
   "source": [
    "!cd $workDir; ssu-align -f -n bacteria --dna --rfonly X90478.fasta sso_aln"
   ]
  },
  {
   "cell_type": "code",
   "execution_count": 27,
   "id": "87e6000b",
   "metadata": {
    "scrolled": true
   },
   "outputs": [
    {
     "name": "stdout",
     "output_type": "stream",
     "text": [
      "# _ssu-mask :: mask SSU rRNA alignments\n",
      "# SSU-ALIGN 0.1.1 (Feb 2016)\n",
      "# Copyright (C) 2016 Howard Hughes Medical Institute\n",
      "# Freely distributed under the BSD open source license.\n",
      "# - - - - - - - - - - - - - - - - - - - - - - - - - - - - - - - - - - - -\n",
      "# command: _ssu-mask -s ssu_aln/ssu_aln.bacteria.mask --afa --dna sso_aln/\n",
      "# date:    Thu Jan 20 10:50:14 2022\n",
      "#\n",
      "# Masking alignments using pre-existing masks...\n",
      "#\n",
      "#                                                     mask    \n",
      "#                                                 ------------\n",
      "# file name                  in/out  type  #cols  incl.  excl.\n",
      "# -------------------------  ------  ----  -----  -----  -----\n",
      "  sso_aln.bacteria.stk        input   aln   1582      -      -\n",
      "  ssu_aln.bacteria.mask       input  mask   1582    249   1333\n",
      "  sso_aln.bacteria.mask.pdf  output   pdf   1582    249   1333\n",
      "  sso_aln.bacteria.mask.afa  output   aln    249      -      -\n",
      "#\n",
      "# All attempts to draw structure diagrams of masks were successful.\n",
      "#\n",
      "# List of executed commands saved in:     sso_aln.ssu-mask.log.\n",
      "# Output printed to the screen saved in:  sso_aln.ssu-mask.sum.\n",
      "#\n",
      "# All output files created in directory ./sso_aln/\n",
      "#\n",
      "# CPU time:  00:00:00.41  (hh:mm:ss)\n",
      "# \n"
     ]
    }
   ],
   "source": [
    "!cd $workDir; ssu-mask -s ssu_aln/ssu_aln.bacteria.mask --dna --afa sso_aln/"
   ]
  },
  {
   "cell_type": "code",
   "execution_count": 28,
   "id": "930986ac",
   "metadata": {},
   "outputs": [],
   "source": [
    "!cd $workDir; cat sso_aln/sso_aln.bacteria.mask.afa ssu_aln/ssu_aln.bacteria.mask.afa > aln_for_tree_wSulfo.fasta\n",
    "!cd $workDir; cp ssu_aln/ssu_aln.bacteria.mask.afa  aln_for_tree.fasta"
   ]
  },
  {
   "cell_type": "code",
   "execution_count": 29,
   "id": "f2f089fe",
   "metadata": {},
   "outputs": [
    {
     "name": "stdout",
     "output_type": "stream",
     "text": [
      ">X90478\r\n",
      "TACCAGCCCCGCGAG---TGGTCGGGATTACTGGGCCTAAAGCGCCCGTAGCCGGCCCGA\r\n",
      "CAAGTCACTCCTTAAAGACCCCGGCTCAACCGGGGGAAGGGGTGATACTGTCGGGCTAGG\r\n",
      "GGGCGGGAGAGGCCAGCGGTACTCCCGGAGTAGGGGCGAAATCCTCAGATCTCGGGAGGA\r\n",
      "CCACCAGTGGCGAAAGCGGCTGGCTAGAACGCCCGACGGTGAGGGGCGAAAGCCGGGGCA\r\n",
      "GCAAAAGGG\r\n",
      ">ASV3\r\n",
      "TACAGAGGTCTCAAGCGTTGTTCGGATTCATTGGGCGTAAAGGGTGCGTAGGCGGCGCGG\r\n",
      "TAAGTCGGGTGTGAAATCTCGGAGCTTAACTCCGAAACCATTCGATACTGCCGTGCTTGA\r\n",
      "GGACTGGAGAGGAGACTGGAATTTACGGTGTAGCGGTGAAATGCGTAGATATCGTAAGGA\r\n"
     ]
    }
   ],
   "source": [
    "!cd $workDir; head aln_for_tree_wSulfo.fasta"
   ]
  },
  {
   "cell_type": "markdown",
   "id": "93459793",
   "metadata": {},
   "source": [
    "# Infering and rooting the tree"
   ]
  },
  {
   "cell_type": "code",
   "execution_count": null,
   "id": "6e0faf3a",
   "metadata": {},
   "outputs": [],
   "source": [
    "aln = load_aligned_seqs(os.path.join(workDir, 'aln_for_tree.fasta'), moltype=DNA)\n",
    "#t_unroot = build_tree_from_alignment(aln, moltype=DNA)a\n",
    "t_unroot = aln.quick_tree(show_progress=False)"
   ]
  },
  {
   "cell_type": "code",
   "execution_count": 33,
   "id": "b38aa4b5",
   "metadata": {},
   "outputs": [
    {
     "ename": "NameError",
     "evalue": "name 'aln' is not defined",
     "output_type": "error",
     "traceback": [
      "\u001b[0;31m---------------------------------------------------------------------------\u001b[0m",
      "\u001b[0;31mNameError\u001b[0m                                 Traceback (most recent call last)",
      "\u001b[0;32m/local/bgfs/bryan.emmett/7086451/ipykernel_57503/455481860.py\u001b[0m in \u001b[0;36m<module>\u001b[0;34m\u001b[0m\n\u001b[0;32m----> 1\u001b[0;31m \u001b[0maln\u001b[0m\u001b[0;34m.\u001b[0m\u001b[0mhead\u001b[0m\u001b[0;34m(\u001b[0m\u001b[0;34m)\u001b[0m\u001b[0;34m\u001b[0m\u001b[0;34m\u001b[0m\u001b[0m\n\u001b[0m",
      "\u001b[0;31mNameError\u001b[0m: name 'aln' is not defined"
     ]
    }
   ],
   "source": [
    "t_unroot.writeToFile(os.path.join(workDir, 'Master_unrooted.tree'))"
   ]
  },
  {
   "cell_type": "markdown",
   "id": "6bb42ff8",
   "metadata": {},
   "source": [
    "## Tree with sulfo"
   ]
  },
  {
   "cell_type": "code",
   "execution_count": null,
   "id": "2d023844",
   "metadata": {},
   "outputs": [],
   "source": [
    "aln = load_aligned_seqs(os.path.join(workDir, 'aln_for_tree_wSulfo.fasta'), moltype=DNA)\n",
    "t_unroot = aln.quick_tree()"
   ]
  },
  {
   "cell_type": "code",
   "execution_count": null,
   "id": "35d38589",
   "metadata": {},
   "outputs": [],
   "source": [
    "t_rooted = t_unroot.rootedWithTip('X90478')"
   ]
  },
  {
   "cell_type": "code",
   "execution_count": null,
   "id": "4cf676db",
   "metadata": {},
   "outputs": [],
   "source": [
    "t_rooted.writeToFile(os.path.join(workDir, 'Master_wSulfo.tree'))"
   ]
  }
 ],
 "metadata": {
  "kernelspec": {
   "display_name": "Python [conda env:Fasttree]",
   "language": "python",
   "name": "conda-env-Fasttree-py"
  },
  "language_info": {
   "codemirror_mode": {
    "name": "ipython",
    "version": 3
   },
   "file_extension": ".py",
   "mimetype": "text/x-python",
   "name": "python",
   "nbconvert_exporter": "python",
   "pygments_lexer": "ipython3",
   "version": "3.9.7"
  }
 },
 "nbformat": 4,
 "nbformat_minor": 5
}
